{
  "nbformat": 4,
  "nbformat_minor": 0,
  "metadata": {
    "colab": {
      "provenance": [],
      "authorship_tag": "ABX9TyN8R0jVU3ARXbh6e7Yz8kPg",
      "include_colab_link": true
    },
    "kernelspec": {
      "name": "python3",
      "display_name": "Python 3"
    },
    "language_info": {
      "name": "python"
    }
  },
  "cells": [
    {
      "cell_type": "markdown",
      "metadata": {
        "id": "view-in-github",
        "colab_type": "text"
      },
      "source": [
        "<a href=\"https://colab.research.google.com/github/kmilawn/DataMining/blob/main/DataMining.ipynb\" target=\"_parent\"><img src=\"https://colab.research.google.com/assets/colab-badge.svg\" alt=\"Open In Colab\"/></a>"
      ]
    },
    {
      "cell_type": "markdown",
      "source": [
        "####Nama: Najwah Kamila\n",
        "####NIM: A11.2023.15209\n",
        "####Mata Kuliah: Data Mining\n",
        "\n"
      ],
      "metadata": {
        "id": "jZdKr3i1kJPe"
      }
    },
    {
      "cell_type": "code",
      "source": [
        "import pandas as pd\n",
        "from sklearn.preprocessing import MinMaxScaler, OneHotEncoder\n",
        "from sklearn.model_selection import train_test_split\n",
        "import numpy as np"
      ],
      "metadata": {
        "id": "vFecpXKVg19C"
      },
      "execution_count": 4,
      "outputs": []
    },
    {
      "cell_type": "markdown",
      "source": [
        "#1. Membuat DataFrame"
      ],
      "metadata": {
        "id": "OV9k1AD_kOz0"
      }
    },
    {
      "cell_type": "code",
      "source": [
        "# Data Awal\n",
        "data = {\n",
        "    'Usia': [25, 30, 35, 22, 40, 28, 50, 45, 33, 27],\n",
        "    'Gaji_Bulanan': [5000000, 7500000, 6000000, np.nan, 9000000, 5500000, 12000000, 8000000, 6500000, 5200000],\n",
        "    'Kota': ['Jakarta', 'Bandung', 'Surabaya', 'Jakarta', 'Bandung', 'Jakarta', 'Surabaya', 'Bandung', 'Jakarta', 'Yogyakarta'],\n",
        "    'Status_Bekerja': [1, 1, 0, 1, 0, 1, 1, 0, 1, 0] # 1: Ya, 0: Tidak\n",
        "}\n",
        "\n",
        "df = pd.DataFrame(data)\n",
        "print(df)\n",
        "print(\"\\n\")\n",
        "\n",
        "print(\"\\n\" + \"=\"*50 + \"\\n\")"
      ],
      "metadata": {
        "colab": {
          "base_uri": "https://localhost:8080/"
        },
        "id": "UmYt6HBNkCJJ",
        "outputId": "f0dc5cb0-4681-44c7-d568-2d21e1ad278f"
      },
      "execution_count": 5,
      "outputs": [
        {
          "output_type": "stream",
          "name": "stdout",
          "text": [
            "   Usia  Gaji_Bulanan        Kota  Status_Bekerja\n",
            "0    25     5000000.0     Jakarta               1\n",
            "1    30     7500000.0     Bandung               1\n",
            "2    35     6000000.0    Surabaya               0\n",
            "3    22           NaN     Jakarta               1\n",
            "4    40     9000000.0     Bandung               0\n",
            "5    28     5500000.0     Jakarta               1\n",
            "6    50    12000000.0    Surabaya               1\n",
            "7    45     8000000.0     Bandung               0\n",
            "8    33     6500000.0     Jakarta               1\n",
            "9    27     5200000.0  Yogyakarta               0\n",
            "\n",
            "\n",
            "\n",
            "==================================================\n",
            "\n"
          ]
        }
      ]
    },
    {
      "cell_type": "markdown",
      "source": [
        "#2. Preprocessing Data"
      ],
      "metadata": {
        "id": "SGMOHjNrkhl0"
      }
    },
    {
      "cell_type": "code",
      "source": [
        "# Penanganan Missing Values (Nilai Hilang)\n",
        "# Periksa missing values\n",
        "print(\"Missing Values per Kolom:\")\n",
        "print(df.isnull().sum())\n",
        "\n",
        "# Isi missing value di kolom 'Gaji_Bulanan' dengan nilai median\n",
        "median_gaji = df['Gaji_Bulanan'].median()\n",
        "#df['Gaji_Bulanan'].fillna(median_gaji, inplace=True)\n",
        "df.fillna({'Gaji_Bulanan': median_gaji}, inplace=True)\n",
        "\n",
        "print(\"\\nDataFrame setelah imputasi Gaji_Bulanan:\")\n",
        "print(df)\n",
        "\n",
        "print(\"\\n\" + \"=\"*50 + \"\\n\")"
      ],
      "metadata": {
        "colab": {
          "base_uri": "https://localhost:8080/"
        },
        "id": "HrnVRnx0go2r",
        "outputId": "a3b37058-0408-444b-a6a5-09068f6754e4"
      },
      "execution_count": 6,
      "outputs": [
        {
          "output_type": "stream",
          "name": "stdout",
          "text": [
            "Missing Values per Kolom:\n",
            "Usia              0\n",
            "Gaji_Bulanan      1\n",
            "Kota              0\n",
            "Status_Bekerja    0\n",
            "dtype: int64\n",
            "\n",
            "DataFrame setelah imputasi Gaji_Bulanan:\n",
            "   Usia  Gaji_Bulanan        Kota  Status_Bekerja\n",
            "0    25     5000000.0     Jakarta               1\n",
            "1    30     7500000.0     Bandung               1\n",
            "2    35     6000000.0    Surabaya               0\n",
            "3    22     6500000.0     Jakarta               1\n",
            "4    40     9000000.0     Bandung               0\n",
            "5    28     5500000.0     Jakarta               1\n",
            "6    50    12000000.0    Surabaya               1\n",
            "7    45     8000000.0     Bandung               0\n",
            "8    33     6500000.0     Jakarta               1\n",
            "9    27     5200000.0  Yogyakarta               0\n",
            "\n",
            "==================================================\n",
            "\n"
          ]
        }
      ]
    },
    {
      "cell_type": "code",
      "source": [
        "# Encoding Data Kategorikal\n",
        "# Menggunakan One-Hot Encoding untuk kolom 'Kota'\n",
        "encoder = OneHotEncoder(sparse_output=False, drop='first') # drop='first' itu untuk menghindari multicollinearity atau data dummy\n",
        "\n",
        "# Fit dan transform kolom 'Kota'\n",
        "kota_encoded = encoder.fit_transform(df[['Kota']])\n",
        "\n",
        "# Buat DataFrame baru dari hasil encoding\n",
        "kota_df = pd.DataFrame(kota_encoded, columns=encoder.get_feature_names_out(['Kota']))\n",
        "\n",
        "# Gabungkan dengan DataFrame asli dan hilangkan kolom 'Kota' yang lama\n",
        "df = pd.concat([df.drop('Kota', axis=1), kota_df], axis=1)\n",
        "\n",
        "print(\"DataFrame setelah One-Hot Encoding:\")\n",
        "print(df)\n",
        "\n",
        "print(\"\\n\" + \"=\"*50 + \"\\n\")"
      ],
      "metadata": {
        "colab": {
          "base_uri": "https://localhost:8080/"
        },
        "id": "w12nSWSGfDRv",
        "outputId": "8b1acfc1-fd9d-4ee6-edd8-85f749b61d8f"
      },
      "execution_count": 7,
      "outputs": [
        {
          "output_type": "stream",
          "name": "stdout",
          "text": [
            "DataFrame setelah One-Hot Encoding:\n",
            "   Usia  Gaji_Bulanan  Status_Bekerja  Kota_Jakarta  Kota_Surabaya  \\\n",
            "0    25     5000000.0               1           1.0            0.0   \n",
            "1    30     7500000.0               1           0.0            0.0   \n",
            "2    35     6000000.0               0           0.0            1.0   \n",
            "3    22     6500000.0               1           1.0            0.0   \n",
            "4    40     9000000.0               0           0.0            0.0   \n",
            "5    28     5500000.0               1           1.0            0.0   \n",
            "6    50    12000000.0               1           0.0            1.0   \n",
            "7    45     8000000.0               0           0.0            0.0   \n",
            "8    33     6500000.0               1           1.0            0.0   \n",
            "9    27     5200000.0               0           0.0            0.0   \n",
            "\n",
            "   Kota_Yogyakarta  \n",
            "0              0.0  \n",
            "1              0.0  \n",
            "2              0.0  \n",
            "3              0.0  \n",
            "4              0.0  \n",
            "5              0.0  \n",
            "6              0.0  \n",
            "7              0.0  \n",
            "8              0.0  \n",
            "9              1.0  \n",
            "\n",
            "==================================================\n",
            "\n"
          ]
        }
      ]
    },
    {
      "cell_type": "code",
      "source": [
        "#Pembagian Data (Fitur vs Target)\n",
        "# Misalkan 'Status_Bekerja' adalah variabel target (Y)\n",
        "\n",
        "X = df.drop('Status_Bekerja', axis=1) # Fitur\n",
        "Y = df['Status_Bekerja']             # Target\n",
        "\n",
        "print(\"Fitur (X):\")\n",
        "print(X.head())\n",
        "\n",
        "print(\"\\nTarget (Y):\")\n",
        "print(Y.head())\n",
        "\n",
        "print(\"\\n\" + \"=\"*50 + \"\\n\")"
      ],
      "metadata": {
        "colab": {
          "base_uri": "https://localhost:8080/"
        },
        "id": "GySTwo5JgV7b",
        "outputId": "4f657b0a-6520-4ea9-be86-334d4e30b476"
      },
      "execution_count": 8,
      "outputs": [
        {
          "output_type": "stream",
          "name": "stdout",
          "text": [
            "Fitur (X):\n",
            "   Usia  Gaji_Bulanan  Kota_Jakarta  Kota_Surabaya  Kota_Yogyakarta\n",
            "0    25     5000000.0           1.0            0.0              0.0\n",
            "1    30     7500000.0           0.0            0.0              0.0\n",
            "2    35     6000000.0           0.0            1.0              0.0\n",
            "3    22     6500000.0           1.0            0.0              0.0\n",
            "4    40     9000000.0           0.0            0.0              0.0\n",
            "\n",
            "Target (Y):\n",
            "0    1\n",
            "1    1\n",
            "2    0\n",
            "3    1\n",
            "4    0\n",
            "Name: Status_Bekerja, dtype: int64\n",
            "\n",
            "==================================================\n",
            "\n"
          ]
        }
      ]
    },
    {
      "cell_type": "code",
      "source": [
        "# Pembagian Data Latih dan Uji (Train-Test Split)\n",
        "\n",
        "X_train, X_test, Y_train, Y_test = train_test_split(X, Y, test_size=0.3, random_state=42) # 30% data untuk testing\n",
        "\n",
        "print(f\"Jumlah total data: {len(X)}\")\n",
        "print(f\"Jumlah data latih (X_train): {len(X_train)}\")\n",
        "print(f\"Jumlah data uji (X_test): {len(X_test)}\")"
      ],
      "metadata": {
        "colab": {
          "base_uri": "https://localhost:8080/"
        },
        "id": "n-JRhXXkgb9w",
        "outputId": "35a42290-1d02-4eee-81fe-87a1c9f4ca02"
      },
      "execution_count": 10,
      "outputs": [
        {
          "output_type": "stream",
          "name": "stdout",
          "text": [
            "Jumlah total data: 10\n",
            "Jumlah data latih (X_train): 7\n",
            "Jumlah data uji (X_test): 3\n"
          ]
        }
      ]
    }
  ]
}